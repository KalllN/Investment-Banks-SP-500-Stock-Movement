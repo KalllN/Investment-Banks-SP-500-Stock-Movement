{
 "cells": [
  {
   "cell_type": "markdown",
   "metadata": {
    "papermill": {
     "duration": 0.007019,
     "end_time": "2020-12-06T14:14:46.421992",
     "exception": false,
     "start_time": "2020-12-06T14:14:46.414973",
     "status": "completed"
    },
    "tags": []
   },
   "source": [
    "# INTRODUCTION\n",
    "**Importing Libraries**"
   ]
  },
  {
   "cell_type": "code",
   "execution_count": 1,
   "metadata": {
    "_cell_guid": "b1076dfc-b9ad-4769-8c92-a6c4dae69d19",
    "_uuid": "8f2839f25d086af736a60e9eeb907d3b93b6e0e5",
    "execution": {
     "iopub.execute_input": "2020-12-06T14:14:46.442166Z",
     "iopub.status.busy": "2020-12-06T14:14:46.441449Z",
     "iopub.status.idle": "2020-12-06T14:14:52.615528Z",
     "shell.execute_reply": "2020-12-06T14:14:52.616056Z"
    },
    "papermill": {
     "duration": 6.187858,
     "end_time": "2020-12-06T14:14:52.616229",
     "exception": false,
     "start_time": "2020-12-06T14:14:46.428371",
     "status": "completed"
    },
    "tags": []
   },
   "outputs": [],
   "source": [
    "import numpy as np\n",
    "import pandas as pd\n",
    "import os\n",
    "from keras.models import Sequential\n",
    "from keras.layers import LSTM,Dense\n",
    "from sklearn.preprocessing import MinMaxScaler\n",
    "import matplotlib.pyplot as plt"
   ]
  },
  {
   "cell_type": "markdown",
   "metadata": {
    "papermill": {
     "duration": 0.006226,
     "end_time": "2020-12-06T14:14:52.630736",
     "exception": false,
     "start_time": "2020-12-06T14:14:52.624510",
     "status": "completed"
    },
    "tags": []
   },
   "source": [
    "**Importing Dataset**"
   ]
  },
  {
   "cell_type": "code",
   "execution_count": 2,
   "metadata": {
    "_cell_guid": "79c7e3d0-c299-4dcb-8224-4455121ee9b0",
    "_uuid": "d629ff2d2480ee46fbb7e2d37f6b5fab8052498a",
    "execution": {
     "iopub.execute_input": "2020-12-06T14:14:52.655197Z",
     "iopub.status.busy": "2020-12-06T14:14:52.654545Z",
     "iopub.status.idle": "2020-12-06T14:14:52.694490Z",
     "shell.execute_reply": "2020-12-06T14:14:52.693943Z"
    },
    "papermill": {
     "duration": 0.057422,
     "end_time": "2020-12-06T14:14:52.694590",
     "exception": false,
     "start_time": "2020-12-06T14:14:52.637168",
     "status": "completed"
    },
    "tags": []
   },
   "outputs": [
    {
     "data": {
      "text/html": [
       "<div>\n",
       "<style scoped>\n",
       "    .dataframe tbody tr th:only-of-type {\n",
       "        vertical-align: middle;\n",
       "    }\n",
       "\n",
       "    .dataframe tbody tr th {\n",
       "        vertical-align: top;\n",
       "    }\n",
       "\n",
       "    .dataframe thead th {\n",
       "        text-align: right;\n",
       "    }\n",
       "</style>\n",
       "<table border=\"1\" class=\"dataframe\">\n",
       "  <thead>\n",
       "    <tr style=\"text-align: right;\">\n",
       "      <th></th>\n",
       "      <th>date</th>\n",
       "      <th>open</th>\n",
       "      <th>high</th>\n",
       "      <th>low</th>\n",
       "      <th>close</th>\n",
       "      <th>volume</th>\n",
       "      <th>Name</th>\n",
       "    </tr>\n",
       "  </thead>\n",
       "  <tbody>\n",
       "    <tr>\n",
       "      <th>0</th>\n",
       "      <td>2013-02-08</td>\n",
       "      <td>67.7142</td>\n",
       "      <td>68.4014</td>\n",
       "      <td>66.8928</td>\n",
       "      <td>67.8542</td>\n",
       "      <td>158168416</td>\n",
       "      <td>AAPL</td>\n",
       "    </tr>\n",
       "    <tr>\n",
       "      <th>1</th>\n",
       "      <td>2013-02-11</td>\n",
       "      <td>68.0714</td>\n",
       "      <td>69.2771</td>\n",
       "      <td>67.6071</td>\n",
       "      <td>68.5614</td>\n",
       "      <td>129029425</td>\n",
       "      <td>AAPL</td>\n",
       "    </tr>\n",
       "    <tr>\n",
       "      <th>2</th>\n",
       "      <td>2013-02-12</td>\n",
       "      <td>68.5014</td>\n",
       "      <td>68.9114</td>\n",
       "      <td>66.8205</td>\n",
       "      <td>66.8428</td>\n",
       "      <td>151829363</td>\n",
       "      <td>AAPL</td>\n",
       "    </tr>\n",
       "    <tr>\n",
       "      <th>3</th>\n",
       "      <td>2013-02-13</td>\n",
       "      <td>66.7442</td>\n",
       "      <td>67.6628</td>\n",
       "      <td>66.1742</td>\n",
       "      <td>66.7156</td>\n",
       "      <td>118721995</td>\n",
       "      <td>AAPL</td>\n",
       "    </tr>\n",
       "    <tr>\n",
       "      <th>4</th>\n",
       "      <td>2013-02-14</td>\n",
       "      <td>66.3599</td>\n",
       "      <td>67.3771</td>\n",
       "      <td>66.2885</td>\n",
       "      <td>66.6556</td>\n",
       "      <td>88809154</td>\n",
       "      <td>AAPL</td>\n",
       "    </tr>\n",
       "  </tbody>\n",
       "</table>\n",
       "</div>"
      ],
      "text/plain": [
       "         date     open     high      low    close     volume  Name\n",
       "0  2013-02-08  67.7142  68.4014  66.8928  67.8542  158168416  AAPL\n",
       "1  2013-02-11  68.0714  69.2771  67.6071  68.5614  129029425  AAPL\n",
       "2  2013-02-12  68.5014  68.9114  66.8205  66.8428  151829363  AAPL\n",
       "3  2013-02-13  66.7442  67.6628  66.1742  66.7156  118721995  AAPL\n",
       "4  2013-02-14  66.3599  67.3771  66.2885  66.6556   88809154  AAPL"
      ]
     },
     "execution_count": 2,
     "metadata": {},
     "output_type": "execute_result"
    }
   ],
   "source": [
    "data = pd.read_csv('../input/sandp500/individual_stocks_5yr/individual_stocks_5yr/AAPL_data.csv')\n",
    "data.head()"
   ]
  },
  {
   "cell_type": "code",
   "execution_count": 3,
   "metadata": {
    "execution": {
     "iopub.execute_input": "2020-12-06T14:14:52.711910Z",
     "iopub.status.busy": "2020-12-06T14:14:52.711288Z",
     "iopub.status.idle": "2020-12-06T14:14:52.743274Z",
     "shell.execute_reply": "2020-12-06T14:14:52.742645Z"
    },
    "papermill": {
     "duration": 0.041256,
     "end_time": "2020-12-06T14:14:52.743370",
     "exception": false,
     "start_time": "2020-12-06T14:14:52.702114",
     "status": "completed"
    },
    "tags": []
   },
   "outputs": [
    {
     "data": {
      "text/html": [
       "<div>\n",
       "<style scoped>\n",
       "    .dataframe tbody tr th:only-of-type {\n",
       "        vertical-align: middle;\n",
       "    }\n",
       "\n",
       "    .dataframe tbody tr th {\n",
       "        vertical-align: top;\n",
       "    }\n",
       "\n",
       "    .dataframe thead th {\n",
       "        text-align: right;\n",
       "    }\n",
       "</style>\n",
       "<table border=\"1\" class=\"dataframe\">\n",
       "  <thead>\n",
       "    <tr style=\"text-align: right;\">\n",
       "      <th></th>\n",
       "      <th>open</th>\n",
       "      <th>high</th>\n",
       "      <th>low</th>\n",
       "      <th>close</th>\n",
       "      <th>volume</th>\n",
       "    </tr>\n",
       "  </thead>\n",
       "  <tbody>\n",
       "    <tr>\n",
       "      <th>count</th>\n",
       "      <td>1259.000000</td>\n",
       "      <td>1259.000000</td>\n",
       "      <td>1259.000000</td>\n",
       "      <td>1259.000000</td>\n",
       "      <td>1.259000e+03</td>\n",
       "    </tr>\n",
       "    <tr>\n",
       "      <th>mean</th>\n",
       "      <td>109.055429</td>\n",
       "      <td>109.951118</td>\n",
       "      <td>108.141589</td>\n",
       "      <td>109.066698</td>\n",
       "      <td>5.404790e+07</td>\n",
       "    </tr>\n",
       "    <tr>\n",
       "      <th>std</th>\n",
       "      <td>30.549220</td>\n",
       "      <td>30.686186</td>\n",
       "      <td>30.376224</td>\n",
       "      <td>30.556812</td>\n",
       "      <td>3.346835e+07</td>\n",
       "    </tr>\n",
       "    <tr>\n",
       "      <th>min</th>\n",
       "      <td>55.424200</td>\n",
       "      <td>57.085700</td>\n",
       "      <td>55.014200</td>\n",
       "      <td>55.789900</td>\n",
       "      <td>1.147592e+07</td>\n",
       "    </tr>\n",
       "    <tr>\n",
       "      <th>25%</th>\n",
       "      <td>84.647800</td>\n",
       "      <td>85.334950</td>\n",
       "      <td>84.250650</td>\n",
       "      <td>84.830650</td>\n",
       "      <td>2.969438e+07</td>\n",
       "    </tr>\n",
       "    <tr>\n",
       "      <th>50%</th>\n",
       "      <td>108.970000</td>\n",
       "      <td>110.030000</td>\n",
       "      <td>108.050000</td>\n",
       "      <td>109.010000</td>\n",
       "      <td>4.566893e+07</td>\n",
       "    </tr>\n",
       "    <tr>\n",
       "      <th>75%</th>\n",
       "      <td>127.335000</td>\n",
       "      <td>128.100000</td>\n",
       "      <td>126.290000</td>\n",
       "      <td>127.120000</td>\n",
       "      <td>6.870872e+07</td>\n",
       "    </tr>\n",
       "    <tr>\n",
       "      <th>max</th>\n",
       "      <td>179.370000</td>\n",
       "      <td>180.100000</td>\n",
       "      <td>178.250000</td>\n",
       "      <td>179.260000</td>\n",
       "      <td>2.668336e+08</td>\n",
       "    </tr>\n",
       "  </tbody>\n",
       "</table>\n",
       "</div>"
      ],
      "text/plain": [
       "              open         high          low        close        volume\n",
       "count  1259.000000  1259.000000  1259.000000  1259.000000  1.259000e+03\n",
       "mean    109.055429   109.951118   108.141589   109.066698  5.404790e+07\n",
       "std      30.549220    30.686186    30.376224    30.556812  3.346835e+07\n",
       "min      55.424200    57.085700    55.014200    55.789900  1.147592e+07\n",
       "25%      84.647800    85.334950    84.250650    84.830650  2.969438e+07\n",
       "50%     108.970000   110.030000   108.050000   109.010000  4.566893e+07\n",
       "75%     127.335000   128.100000   126.290000   127.120000  6.870872e+07\n",
       "max     179.370000   180.100000   178.250000   179.260000  2.668336e+08"
      ]
     },
     "execution_count": 3,
     "metadata": {},
     "output_type": "execute_result"
    }
   ],
   "source": [
    "data.describe()"
   ]
  },
  {
   "cell_type": "markdown",
   "metadata": {
    "papermill": {
     "duration": 0.007636,
     "end_time": "2020-12-06T14:14:52.759288",
     "exception": false,
     "start_time": "2020-12-06T14:14:52.751652",
     "status": "completed"
    },
    "tags": []
   },
   "source": [
    "# EXPLORATORY DATA ANALYSIS (EDA)"
   ]
  },
  {
   "cell_type": "markdown",
   "metadata": {
    "papermill": {
     "duration": 0.007543,
     "end_time": "2020-12-06T14:14:52.774641",
     "exception": false,
     "start_time": "2020-12-06T14:14:52.767098",
     "status": "completed"
    },
    "tags": []
   },
   "source": [
    "**Opening and Closing Prices over Time**"
   ]
  },
  {
   "cell_type": "code",
   "execution_count": 4,
   "metadata": {
    "execution": {
     "iopub.execute_input": "2020-12-06T14:14:52.796593Z",
     "iopub.status.busy": "2020-12-06T14:14:52.796027Z",
     "iopub.status.idle": "2020-12-06T14:14:53.090604Z",
     "shell.execute_reply": "2020-12-06T14:14:53.089843Z"
    },
    "papermill": {
     "duration": 0.308327,
     "end_time": "2020-12-06T14:14:53.090722",
     "exception": false,
     "start_time": "2020-12-06T14:14:52.782395",
     "status": "completed"
    },
    "tags": []
   },
   "outputs": [
    {
     "data": {
      "image/png": "[encoded data removed]",
      "text/plain": [
       "<Figure size 864x432 with 1 Axes>"
      ]
     },
     "metadata": {
      "needs_background": "light"
     },
     "output_type": "display_data"
    }
   ],
   "source": [
    "plt.figure(figsize = (12,6))\n",
    "plt.xlabel('No. of Days')\n",
    "plt.ylabel('Opening & Closing Price USD($)')\n",
    "plt.hist([data['open'], data['close']], color = [\"dodgerblue\", \"lightsalmon\"])\n",
    "plt.show()"
   ]
  },
  {
   "cell_type": "markdown",
   "metadata": {
    "papermill": {
     "duration": 0.008444,
     "end_time": "2020-12-06T14:14:53.108493",
     "exception": false,
     "start_time": "2020-12-06T14:14:53.100049",
     "status": "completed"
    },
    "tags": []
   },
   "source": [
    "**Correlation of High & Low Stock Prices**"
   ]
  },
  {
   "cell_type": "code",
   "execution_count": 5,
   "metadata": {
    "execution": {
     "iopub.execute_input": "2020-12-06T14:14:53.138265Z",
     "iopub.status.busy": "2020-12-06T14:14:53.133382Z",
     "iopub.status.idle": "2020-12-06T14:14:53.295070Z",
     "shell.execute_reply": "2020-12-06T14:14:53.294344Z"
    },
    "papermill": {
     "duration": 0.177376,
     "end_time": "2020-12-06T14:14:53.295206",
     "exception": false,
     "start_time": "2020-12-06T14:14:53.117830",
     "status": "completed"
    },
    "tags": []
   },
   "outputs": [
    {
     "data": {
      "image/png": "[encoded data removed]",
      "text/plain": [
       "<Figure size 864x432 with 1 Axes>"
      ]
     },
     "metadata": {
      "needs_background": "light"
     },
     "output_type": "display_data"
    }
   ],
   "source": [
    "fig,ax1 = plt.subplots(figsize = (12, 6))\n",
    "plt.plot(data[['high','low']])\n",
    "plt.show()"
   ]
  }
 ],
 "metadata": {
  "kernelspec": {
   "display_name": "Python 3",
   "language": "python",
   "name": "python3"
  },
  "language_info": {
   "codemirror_mode": {
    "name": "ipython",
    "version": 3
   },
   "file_extension": ".py",
   "mimetype": "text/x-python",
   "name": "python",
   "nbconvert_exporter": "python",
   "pygments_lexer": "ipython3",
   "version": "3.7.6"
  },
  "papermill": {
   "duration": 12.808807,
   "end_time": "2020-12-06T14:14:54.356713",
   "environment_variables": {},
   "exception": null,
   "input_path": "__notebook__.ipynb",
   "output_path": "__notebook__.ipynb",
   "parameters": {},
   "start_time": "2020-12-06T14:14:41.547906",
   "version": "2.1.0"
  }
 },
 "nbformat": 4,
 "nbformat_minor": 4
}
